{
  "nbformat": 4,
  "nbformat_minor": 0,
  "metadata": {
    "colab": {
      "provenance": [],
      "authorship_tag": "ABX9TyMsz4rtJwt1Nh562dB9dDhm",
      "include_colab_link": true
    },
    "kernelspec": {
      "name": "python3",
      "display_name": "Python 3"
    },
    "language_info": {
      "name": "python"
    }
  },
  "cells": [
    {
      "cell_type": "markdown",
      "metadata": {
        "id": "view-in-github",
        "colab_type": "text"
      },
      "source": [
        "<a href=\"https://colab.research.google.com/github/SarthakBMSCE/BIS_Lab_1BM22CS352/blob/main/BIS_LAB_Genetic_Algo.ipynb\" target=\"_parent\"><img src=\"https://colab.research.google.com/assets/colab-badge.svg\" alt=\"Open In Colab\"/></a>"
      ]
    },
    {
      "cell_type": "code",
      "execution_count": null,
      "metadata": {
        "colab": {
          "base_uri": "https://localhost:8080/"
        },
        "id": "5GpLRhDrbVsB",
        "outputId": "e3101107-44da-4db8-a9f9-571f79144b83"
      },
      "outputs": [
        {
          "output_type": "stream",
          "name": "stdout",
          "text": [
            "Enter a binary string of size 5 (e.g., '11001'): 11011\n",
            "Enter a binary string of size 5 (e.g., '11001'): 01011\n",
            "Enter a binary string of size 5 (e.g., '11001'): 11100\n",
            "Enter a binary string of size 5 (e.g., '11001'): 01101\n",
            "Maximum Possible Fitness: 841\n"
          ]
        }
      ],
      "source": [
        "import random\n",
        "\n",
        "# Set a random seed for reproducibility\n",
        "random.seed(42)\n",
        "\n",
        "def fitness(chromosome):\n",
        "    x = int(''.join(map(str, chromosome)), 2)\n",
        "    return x ** 2\n",
        "\n",
        "def binary_string_to_chromosome(binary_string):\n",
        "    return [int(bit) for bit in binary_string]\n",
        "\n",
        "def generate_population_from_input():\n",
        "    population = []\n",
        "    for _ in range(population_size):\n",
        "        while True:\n",
        "            binary_string = input(\"Enter a binary string of size 5 (e.g., '11001'): \")\n",
        "            if len(binary_string) == 5 and all(bit in '01' for bit in binary_string):\n",
        "                population.append(binary_string_to_chromosome(binary_string))\n",
        "                break\n",
        "            else:\n",
        "                print(\"Invalid input. Please enter a binary string of size 5.\")\n",
        "    return population\n",
        "\n",
        "def select_pair(population, fitnesses):\n",
        "    total_fitness = sum(fitnesses)\n",
        "    selection_probs = [f / total_fitness for f in fitnesses]\n",
        "    parent1 = population[random.choices(range(len(population)), selection_probs)[0]]\n",
        "    parent2 = population[random.choices(range(len(population)), selection_probs)[0]]\n",
        "    return parent1, parent2\n",
        "\n",
        "def crossover(parent1, parent2):\n",
        "    point = random.randint(1, len(parent1) - 1)\n",
        "    offspring1 = parent1[:point] + parent2[point:]\n",
        "    offspring2 = parent2[:point] + parent1[point:]\n",
        "    return offspring1, offspring2\n",
        "\n",
        "def mutate(chromosome, mutation_rate):\n",
        "    return [gene if random.random() > mutation_rate else 1 - gene for gene in chromosome]\n",
        "\n",
        "# Parameters\n",
        "population_size = 4\n",
        "generations = 20\n",
        "mutation_rate = 0.01\n",
        "\n",
        "# Initialize population from user input\n",
        "population = generate_population_from_input()\n",
        "\n",
        "for generation in range(generations):\n",
        "    fitnesses = [fitness(chromosome) for chromosome in population]\n",
        "\n",
        "    new_population = []\n",
        "\n",
        "    # Create new population\n",
        "    while len(new_population) < population_size:\n",
        "        parent1, parent2 = select_pair(population, fitnesses)\n",
        "        offspring1, offspring2 = crossover(parent1, parent2)\n",
        "        new_population.append(mutate(offspring1, mutation_rate))\n",
        "        new_population.append(mutate(offspring2, mutation_rate))\n",
        "\n",
        "    # Ensure the new population has the right size\n",
        "    population = new_population[:population_size]\n",
        "\n",
        "# Get the maximum fitness\n",
        "fitnesses = [fitness(chromosome) for chromosome in population]\n",
        "max_fitness = max(fitnesses)\n",
        "\n",
        "print(f\"Maximum Possible Fitness: {max_fitness}\")\n"
      ]
    },
    {
      "cell_type": "code",
      "source": [
        "11011\n",
        "01011\n",
        "11100\n",
        "01101\n"
      ],
      "metadata": {
        "id": "GwkwOu8PkW48"
      },
      "execution_count": null,
      "outputs": []
    }
  ]
}